{
 "nbformat": 4,
 "nbformat_minor": 0,
 "metadata": {
  "colab": {
   "name": "meal7thMath.ipynb",
   "provenance": [],
   "collapsed_sections": []
  },
  "kernelspec": {
   "name": "python3",
   "display_name": "Python 3 (ipykernel)",
   "language": "python"
  },
  "language_info": {
   "name": "python"
  }
 },
 "cells": [
  {
   "cell_type": "code",
   "source": [
    "with open('mf2.txt', 'w') as abcdefg:\n",
    "  abcdefg.write('''Item Name,Total Fat,Calories\n",
    "Decaf Coffee,0,0\n",
    "Cupcake Pancakes,24,810\n",
    "Original Buttermilk Pancakes,24,690\n",
    "Swedish Crepes,30,610\n",
    "Belgian Waffle,33,570\n",
    "Gluten-Friendly Belgian Waffle,13,410\n",
    "Original French Toast,36,740\n",
    "Breakfast Sampler without eggs,59,900\n",
    "Eggs Benedict,52,860\n",
    "Omelette,28,400\n",
    "Mozza sticks,33,660\n",
    "House Salad NO DRESSING,0,30\n",
    "Ranch,22,210\n",
    "Buttered Corn,10,180\n",
    "Onion Rings,30,550''')"
   ],
   "metadata": {
    "id": "IERZzTy2vi_J",
    "ExecuteTime": {
     "end_time": "2025-08-08T20:43:19.025342Z",
     "start_time": "2025-08-08T20:43:19.021017Z"
    }
   },
   "outputs": [],
   "execution_count": 36
  },
  {
   "cell_type": "code",
   "source": [
    "import matplotlib.pyplot as plt\n",
    "import pandas as pd\n",
    "import seaborn as sns\n",
    "import numpy\n",
    "data = pd.read_csv('mf2.txt')\n",
    "data_only = data.drop('Item Name', axis=1)\n",
    "data"
   ],
   "metadata": {
    "id": "_Th8dZXPwkr3",
    "ExecuteTime": {
     "end_time": "2025-08-08T20:43:24.397747Z",
     "start_time": "2025-08-08T20:43:24.385329Z"
    }
   },
   "outputs": [
    {
     "data": {
      "text/plain": [
       "                         Item Name  Total Fat  Calories\n",
       "0                     Decaf Coffee          0         0\n",
       "1                 Cupcake Pancakes         24       810\n",
       "2     Original Buttermilk Pancakes         24       690\n",
       "3                   Swedish Crepes         30       610\n",
       "4                   Belgian Waffle         33       570\n",
       "5   Gluten-Friendly Belgian Waffle         13       410\n",
       "6            Original French Toast         36       740\n",
       "7   Breakfast Sampler without eggs         59       900\n",
       "8                    Eggs Benedict         52       860\n",
       "9                         Omelette         28       400\n",
       "10                    Mozza sticks         33       660\n",
       "11         House Salad NO DRESSING          0        30\n",
       "12                           Ranch         22       210\n",
       "13                   Buttered Corn         10       180\n",
       "14                     Onion Rings         30       550"
      ],
      "text/html": [
       "<div>\n",
       "<style scoped>\n",
       "    .dataframe tbody tr th:only-of-type {\n",
       "        vertical-align: middle;\n",
       "    }\n",
       "\n",
       "    .dataframe tbody tr th {\n",
       "        vertical-align: top;\n",
       "    }\n",
       "\n",
       "    .dataframe thead th {\n",
       "        text-align: right;\n",
       "    }\n",
       "</style>\n",
       "<table border=\"1\" class=\"dataframe\">\n",
       "  <thead>\n",
       "    <tr style=\"text-align: right;\">\n",
       "      <th></th>\n",
       "      <th>Item Name</th>\n",
       "      <th>Total Fat</th>\n",
       "      <th>Calories</th>\n",
       "    </tr>\n",
       "  </thead>\n",
       "  <tbody>\n",
       "    <tr>\n",
       "      <th>0</th>\n",
       "      <td>Decaf Coffee</td>\n",
       "      <td>0</td>\n",
       "      <td>0</td>\n",
       "    </tr>\n",
       "    <tr>\n",
       "      <th>1</th>\n",
       "      <td>Cupcake Pancakes</td>\n",
       "      <td>24</td>\n",
       "      <td>810</td>\n",
       "    </tr>\n",
       "    <tr>\n",
       "      <th>2</th>\n",
       "      <td>Original Buttermilk Pancakes</td>\n",
       "      <td>24</td>\n",
       "      <td>690</td>\n",
       "    </tr>\n",
       "    <tr>\n",
       "      <th>3</th>\n",
       "      <td>Swedish Crepes</td>\n",
       "      <td>30</td>\n",
       "      <td>610</td>\n",
       "    </tr>\n",
       "    <tr>\n",
       "      <th>4</th>\n",
       "      <td>Belgian Waffle</td>\n",
       "      <td>33</td>\n",
       "      <td>570</td>\n",
       "    </tr>\n",
       "    <tr>\n",
       "      <th>5</th>\n",
       "      <td>Gluten-Friendly Belgian Waffle</td>\n",
       "      <td>13</td>\n",
       "      <td>410</td>\n",
       "    </tr>\n",
       "    <tr>\n",
       "      <th>6</th>\n",
       "      <td>Original French Toast</td>\n",
       "      <td>36</td>\n",
       "      <td>740</td>\n",
       "    </tr>\n",
       "    <tr>\n",
       "      <th>7</th>\n",
       "      <td>Breakfast Sampler without eggs</td>\n",
       "      <td>59</td>\n",
       "      <td>900</td>\n",
       "    </tr>\n",
       "    <tr>\n",
       "      <th>8</th>\n",
       "      <td>Eggs Benedict</td>\n",
       "      <td>52</td>\n",
       "      <td>860</td>\n",
       "    </tr>\n",
       "    <tr>\n",
       "      <th>9</th>\n",
       "      <td>Omelette</td>\n",
       "      <td>28</td>\n",
       "      <td>400</td>\n",
       "    </tr>\n",
       "    <tr>\n",
       "      <th>10</th>\n",
       "      <td>Mozza sticks</td>\n",
       "      <td>33</td>\n",
       "      <td>660</td>\n",
       "    </tr>\n",
       "    <tr>\n",
       "      <th>11</th>\n",
       "      <td>House Salad NO DRESSING</td>\n",
       "      <td>0</td>\n",
       "      <td>30</td>\n",
       "    </tr>\n",
       "    <tr>\n",
       "      <th>12</th>\n",
       "      <td>Ranch</td>\n",
       "      <td>22</td>\n",
       "      <td>210</td>\n",
       "    </tr>\n",
       "    <tr>\n",
       "      <th>13</th>\n",
       "      <td>Buttered Corn</td>\n",
       "      <td>10</td>\n",
       "      <td>180</td>\n",
       "    </tr>\n",
       "    <tr>\n",
       "      <th>14</th>\n",
       "      <td>Onion Rings</td>\n",
       "      <td>30</td>\n",
       "      <td>550</td>\n",
       "    </tr>\n",
       "  </tbody>\n",
       "</table>\n",
       "</div>"
      ]
     },
     "execution_count": 43,
     "metadata": {},
     "output_type": "execute_result"
    }
   ],
   "execution_count": 43
  },
  {
   "cell_type": "code",
   "source": [
    "sns.lmplot(data=data, x='Total Fat', y='Calories')"
   ],
   "metadata": {
    "colab": {
     "base_uri": "https://localhost:8080/",
     "height": 386
    },
    "id": "pC2ozIjvw8sb",
    "outputId": "a40dcd89-de92-40a9-d51c-c65f6c86d583",
    "ExecuteTime": {
     "end_time": "2025-08-08T20:43:19.234365Z",
     "start_time": "2025-08-08T20:43:19.056666Z"
    }
   },
   "outputs": [
    {
     "data": {
      "text/plain": [
       "<seaborn.axisgrid.FacetGrid at 0x17f29ab10>"
      ]
     },
     "execution_count": 38,
     "metadata": {},
     "output_type": "execute_result"
    },
    {
     "data": {
      "text/plain": [
       "<Figure size 500x500 with 1 Axes>"
      ],
      "image/png": "[encoded data removed]"
     },
     "metadata": {},
     "output_type": "display_data"
    }
   ],
   "execution_count": 38
  },
  {
   "cell_type": "code",
   "source": [
    "from sklearn.metrics import confusion_matrix\n",
    "from sklearn.metrics import classification_report\n",
    "from sklearn.model_selection import train_test_split"
   ],
   "metadata": {
    "id": "z0tuECYg-zOb",
    "ExecuteTime": {
     "end_time": "2025-08-08T20:43:19.249270Z",
     "start_time": "2025-08-08T20:43:19.247064Z"
    }
   },
   "outputs": [],
   "execution_count": 39
  },
  {
   "cell_type": "code",
   "source": [
    "X = data_only.iloc[:, :-1].values\n",
    "y = data_only.iloc[:, -1].values"
   ],
   "metadata": {
    "id": "GEdXAcTwDD7T",
    "ExecuteTime": {
     "end_time": "2025-08-08T20:43:19.256808Z",
     "start_time": "2025-08-08T20:43:19.254348Z"
    }
   },
   "outputs": [],
   "execution_count": 40
  },
  {
   "cell_type": "code",
   "source": [
    "X_train, X_test, y_train, y_test = train_test_split(X, y, test_size = 0.2, random_state = 0)\n",
    "X_test"
   ],
   "metadata": {
    "id": "hmWGb6vKDM5x",
    "ExecuteTime": {
     "end_time": "2025-08-08T20:43:37.333034Z",
     "start_time": "2025-08-08T20:43:37.327730Z"
    }
   },
   "outputs": [
    {
     "data": {
      "text/plain": [
       "array([[24],\n",
       "       [36],\n",
       "       [52]])"
      ]
     },
     "execution_count": 45,
     "metadata": {},
     "output_type": "execute_result"
    }
   ],
   "execution_count": 45
  },
  {
   "cell_type": "code",
   "source": [
    "# Support Vector Machine's \n",
    "from sklearn.svm import SVC\n",
    "\n",
    "classifier = SVC()\n",
    "classifier.fit(X_train, y_train)\n",
    "\n",
    "y_pred = classifier.predict(X_test)\n",
    "\n",
    "print(X_test)\n",
    "print(y_pred)\n",
    "# Summary of the predictions made by the classifier\n",
    "print(classification_report(y_test, y_pred))\n",
    "print(confusion_matrix(y_test, y_pred))\n",
    "# Accuracy score\n",
    "from sklearn.metrics import accuracy_score\n",
    "print('accuracy is',accuracy_score(y_pred,y_test))\n",
    "\n"
   ],
   "metadata": {
    "id": "f1Z6IU8nDZ1H",
    "colab": {
     "base_uri": "https://localhost:8080/"
    },
    "outputId": "1d15e27a-7862-4717-84e8-2ebb6bb54ca2",
    "ExecuteTime": {
     "end_time": "2025-08-08T20:44:06.134699Z",
     "start_time": "2025-08-08T20:44:06.121545Z"
    }
   },
   "outputs": [
    {
     "name": "stdout",
     "output_type": "stream",
     "text": [
      "[[24]\n",
      " [36]\n",
      " [52]]\n",
      "[690 660 900]\n",
      "              precision    recall  f1-score   support\n",
      "\n",
      "         660       0.00      0.00      0.00       0.0\n",
      "         690       0.00      0.00      0.00       0.0\n",
      "         740       0.00      0.00      0.00       1.0\n",
      "         810       0.00      0.00      0.00       1.0\n",
      "         860       0.00      0.00      0.00       1.0\n",
      "         900       0.00      0.00      0.00       0.0\n",
      "\n",
      "    accuracy                           0.00       3.0\n",
      "   macro avg       0.00      0.00      0.00       3.0\n",
      "weighted avg       0.00      0.00      0.00       3.0\n",
      "\n",
      "[[0 0 0 0 0 0]\n",
      " [0 0 0 0 0 0]\n",
      " [1 0 0 0 0 0]\n",
      " [0 1 0 0 0 0]\n",
      " [0 0 0 0 0 1]\n",
      " [0 0 0 0 0 0]]\n",
      "accuracy is 0.0\n",
      "\n",
      "[180]\n"
     ]
    },
    {
     "name": "stderr",
     "output_type": "stream",
     "text": [
      "/Library/Frameworks/Python.framework/Versions/3.11/lib/python3.11/site-packages/sklearn/metrics/_classification.py:1731: UndefinedMetricWarning: Precision is ill-defined and being set to 0.0 in labels with no predicted samples. Use `zero_division` parameter to control this behavior.\n",
      "  _warn_prf(average, modifier, f\"{metric.capitalize()} is\", result.shape[0])\n",
      "/Library/Frameworks/Python.framework/Versions/3.11/lib/python3.11/site-packages/sklearn/metrics/_classification.py:1731: UndefinedMetricWarning: Recall is ill-defined and being set to 0.0 in labels with no true samples. Use `zero_division` parameter to control this behavior.\n",
      "  _warn_prf(average, modifier, f\"{metric.capitalize()} is\", result.shape[0])\n",
      "/Library/Frameworks/Python.framework/Versions/3.11/lib/python3.11/site-packages/sklearn/metrics/_classification.py:1731: UndefinedMetricWarning: Precision is ill-defined and being set to 0.0 in labels with no predicted samples. Use `zero_division` parameter to control this behavior.\n",
      "  _warn_prf(average, modifier, f\"{metric.capitalize()} is\", result.shape[0])\n",
      "/Library/Frameworks/Python.framework/Versions/3.11/lib/python3.11/site-packages/sklearn/metrics/_classification.py:1731: UndefinedMetricWarning: Recall is ill-defined and being set to 0.0 in labels with no true samples. Use `zero_division` parameter to control this behavior.\n",
      "  _warn_prf(average, modifier, f\"{metric.capitalize()} is\", result.shape[0])\n",
      "/Library/Frameworks/Python.framework/Versions/3.11/lib/python3.11/site-packages/sklearn/metrics/_classification.py:1731: UndefinedMetricWarning: Precision is ill-defined and being set to 0.0 in labels with no predicted samples. Use `zero_division` parameter to control this behavior.\n",
      "  _warn_prf(average, modifier, f\"{metric.capitalize()} is\", result.shape[0])\n",
      "/Library/Frameworks/Python.framework/Versions/3.11/lib/python3.11/site-packages/sklearn/metrics/_classification.py:1731: UndefinedMetricWarning: Recall is ill-defined and being set to 0.0 in labels with no true samples. Use `zero_division` parameter to control this behavior.\n",
      "  _warn_prf(average, modifier, f\"{metric.capitalize()} is\", result.shape[0])\n"
     ]
    }
   ],
   "execution_count": 47
  },
  {
   "metadata": {
    "ExecuteTime": {
     "end_time": "2025-08-08T20:43:27.939759Z",
     "start_time": "2025-08-08T20:43:27.934550Z"
    }
   },
   "cell_type": "code",
   "source": "",
   "outputs": [
    {
     "data": {
      "text/plain": [
       "array([[25]])"
      ]
     },
     "execution_count": 44,
     "metadata": {},
     "output_type": "execute_result"
    }
   ],
   "execution_count": 44
  },
  {
   "metadata": {},
   "cell_type": "code",
   "outputs": [],
   "execution_count": null,
   "source": ""
  }
 ]
}
